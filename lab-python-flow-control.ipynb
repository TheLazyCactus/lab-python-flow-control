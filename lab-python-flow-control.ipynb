{
 "cells": [
  {
   "cell_type": "markdown",
   "id": "d3bfc191-8885-42ee-b0a0-bbab867c6f9f",
   "metadata": {
    "tags": []
   },
   "source": [
    "# Lab | Flow Control"
   ]
  },
  {
   "cell_type": "markdown",
   "id": "3851fcd1-cf98-4653-9c89-e003b7ec9400",
   "metadata": {},
   "source": [
    "## Exercise: Managing Customer Orders Optimized\n",
    "\n",
    "In the last lab, you were starting an online store that sells various products. To ensure smooth operations, you developed a program that manages customer orders and inventory.\n",
    "\n",
    "You did so without using flow control. Let's go a step further and improve this code.\n",
    "\n",
    "Follow the steps below to complete the exercise:\n",
    "\n",
    "1. Look at your code from the lab data structures, and improve repeated code with loops.\n",
    "\n",
    "2. Instead of asking the user to input the name of three products that a customer wants to order, do the following:\n",
    "    \n",
    "    a. Prompt the user to enter the name of a product that a customer wants to order.\n",
    "    \n",
    "    b. Add the product name to the \"customer_orders\" set.\n",
    "    \n",
    "    c. Ask the user if they want to add another product (yes/no).\n",
    "    \n",
    "    d. Continue the loop until the user does not want to add another product.\n",
    "\n",
    "3. Instead of updating the inventory by subtracting 1 from the quantity of each product, only do it for  the products that were ordered (those in \"customer_orders\")."
   ]
  },
  {
   "cell_type": "code",
   "execution_count": null,
   "id": "da4463ce",
   "metadata": {},
   "outputs": [],
   "source": [
    "products = [ \"t-shirt\", \"mug\", \"hat\", \"book\", \"keychain\"]\n",
    "inventory = {}\n",
    "for i in products:\n",
    "    inventory [i] = int(input(f\"What is the quantity of {i}?\"))\n",
    "customer_orders = set()\n",
    "while True:\n",
    "    product = input(\"What product do you want to order? \")\n",
    "    if product in products:\n",
    "        customer_orders.add(product)\n",
    "    else:\n",
    "        print(\"Product not in the list\")\n",
    "    x = input(\"Do you want to add another product (y/n)? \")\n",
    "    if x.lower() == 'n':\n",
    "        break\n",
    "    elif x.lower() != 'y':\n",
    "        print(\"Please answer with 'y' or 'n'.\")\n",
    "\n",
    "print(customer_orders)\n",
    "Total_Products_Ordered = len(customer_orders)\n",
    "\n",
    "\n",
    "Percentage_of_Products_Ordered =Total_Products_Ordered / len(product) *100\n",
    "\n",
    "order_status = (Total_Products_Ordered,Percentage_of_Products_Ordered)\n",
    "\n",
    "# Print order statistics in the specified format\n",
    "print(\"Order Statistics:\")\n",
    "print(f\"Total Products Ordered: {Total_Products_Ordered}\")\n",
    "print(f\"Percentage of Products Ordered: {Percentage_of_Products_Ordered:.2f}%\")\n",
    "\n",
    "for i in customer_orders:\n",
    "  inventory[i] -= 1\n",
    "\n",
    "for i in inventory:\n",
    "  print(f\"the quantity of {i} is\", {inventory[i]})"
   ]
  }
 ],
 "metadata": {
  "kernelspec": {
   "display_name": "Python 3 (ipykernel)",
   "language": "python",
   "name": "python3"
  },
  "language_info": {
   "codemirror_mode": {
    "name": "ipython",
    "version": 3
   },
   "file_extension": ".py",
   "mimetype": "text/x-python",
   "name": "python",
   "nbconvert_exporter": "python",
   "pygments_lexer": "ipython3",
   "version": "3.9.13"
  }
 },
 "nbformat": 4,
 "nbformat_minor": 5
}
